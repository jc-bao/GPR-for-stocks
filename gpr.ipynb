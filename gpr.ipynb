{
 "cells": [
  {
   "cell_type": "markdown",
   "metadata": {},
   "source": [
    "# Stocks Price Prediction With GPR"
   ]
  },
  {
   "cell_type": "code",
   "execution_count": null,
   "metadata": {},
   "outputs": [],
   "source": [
    "from sklearn.gaussian_process import GaussianProcessRegressor\n",
    "from sklearn.gaussian_process.kernels import WhiteKernel, DotProduct, RBF, Matern, RationalQuadratic, ExpSineSquared, Kernel, Hyperparameter\n",
    "import matplotlib.pyplot as plt\n",
    "import numpy as np\n",
    "import seaborn as sns\n",
    "import quandl\n",
    "from sklearn import preprocessing\n",
    "np.random.seed(seed=0)  # Set seed for NumPy\n",
    "random_state = 0"
   ]
  },
  {
   "cell_type": "markdown",
   "metadata": {},
   "source": [
    "## Config your hyperparameters here."
   ]
  },
  {
   "cell_type": "code",
   "execution_count": null,
   "metadata": {},
   "outputs": [],
   "source": [
    "stock_id = 'MULTPL/SP500_REAL_PRICE_YEAR' # the stock you want to get\n",
    "input_data_length = 38 # length of input data"
   ]
  },
  {
   "cell_type": "markdown",
   "metadata": {},
   "source": [
    "## Get Data"
   ]
  },
  {
   "cell_type": "code",
   "execution_count": null,
   "metadata": {},
   "outputs": [],
   "source": [
    "# Get data via Quandl API\n",
    "quandl.ApiConfig.api_key = 'No6kZxhas7xsxr5_mB-f'\n",
    "origial_data = quandl.get(stock_id)"
   ]
  },
  {
   "cell_type": "code",
   "execution_count": null,
   "metadata": {},
   "outputs": [],
   "source": [
    "data = origial_data[113:165]"
   ]
  },
  {
   "cell_type": "markdown",
   "metadata": {},
   "source": [
    "## Preprocess Data\n",
    "Note: the normalization will remarkably eaze the pain of tuning."
   ]
  },
  {
   "cell_type": "code",
   "execution_count": null,
   "metadata": {},
   "outputs": [],
   "source": [
    "value = np.array(data.Value).reshape(-1, 1)\n",
    "scaler = preprocessing.StandardScaler().fit(value)\n",
    "value = scaler.transform(value)\n",
    "y = value[:input_data_length]\n",
    "x = np.arange(input_data_length).reshape(-1,1)"
   ]
  },
  {
   "cell_type": "markdown",
   "metadata": {},
   "source": [
    "## Fit GPR model and Predict"
   ]
  },
  {
   "cell_type": "code",
   "execution_count": null,
   "metadata": {},
   "outputs": [],
   "source": [
    "from sklearn.utils.optimize import _check_optimize_result\n",
    "import scipy\n",
    "class MyGPR(GaussianProcessRegressor):\n",
    "    def __init__(self, *args, max_iter=2e05, gtol=1e-06, **kwargs):\n",
    "        super().__init__(*args, **kwargs)\n",
    "        self._max_iter = max_iter\n",
    "        self._gtol = gtol\n",
    "\n",
    "    def _constrained_optimization(self, obj_func, initial_theta, bounds):\n",
    "        if self.optimizer == \"fmin_l_bfgs_b\":\n",
    "            opt_res = scipy.optimize.minimize(obj_func, initial_theta, method=\"L-BFGS-B\", jac=True, bounds=bounds, options={'maxiter':self._max_iter, 'gtol': self._gtol})\n",
    "            _check_optimize_result(\"lbfgs\", opt_res)\n",
    "            theta_opt, func_min = opt_res.x, opt_res.fun\n",
    "        elif callable(self.optimizer):\n",
    "            theta_opt, func_min = self.optimizer(obj_func, initial_theta, bounds=bounds)\n",
    "        else:\n",
    "            raise ValueError(\"Unknown optimizer %s.\" % self.optimizer)\n",
    "        return theta_opt, func_min"
   ]
  },
  {
   "cell_type": "code",
   "execution_count": null,
   "metadata": {},
   "outputs": [],
   "source": [
    "# [Important] choice of kernel\n",
    "kernel = (\n",
    "    # long-term rising\n",
    "    DotProduct(sigma_0=1)\n",
    "    # # flunctuate in a year\n",
    "    # + 0.1*RBF(length_scale=20) * ExpSineSquared(length_scale=0.1 , periodicity=3)\n",
    "    + ExpSineSquared(length_scale=0.1 , periodicity=15)\n",
    "    # + 0.1*RBF(length_scale=5) * ExpSineSquared(length_scale=0.1 , periodicity=50)\n",
    "    # # minor changes in a year\n",
    "    # + 0.1*RationalQuadratic(alpha=1, length_scale=1) + 1 * RBF(length_scale=0.01)\n",
    "    # # white noise\n",
    "    + WhiteKernel(noise_level=0.01)\n",
    ")\n",
    "gpr = MyGPR(kernel=kernel, random_state=random_state, n_restarts_optimizer=8)\n",
    "x_new = np.arange(0, len(data)).reshape(-1,1)\n",
    "y_hat_old, y_sigma_old = gpr.predict(x_new, return_std=True)\n",
    "gpr.fit(x, y)\n",
    "y_hat_new, y_sigma_new = gpr.predict(x_new, return_std=True)"
   ]
  },
  {
   "cell_type": "markdown",
   "metadata": {},
   "source": [
    "## Plot Data"
   ]
  },
  {
   "cell_type": "code",
   "execution_count": null,
   "metadata": {},
   "outputs": [],
   "source": [
    "sns.set(style=\"darkgrid\", palette=\"muted\", color_codes=True)\n",
    "# Initialize plot\n",
    "f, ax = plt.subplots(2, 1, figsize=(10, 10))\n",
    "\n",
    "# before optimize\n",
    "# plot predict data\n",
    "y_hat_old = np.squeeze(y_hat_old)\n",
    "ax[0].plot(x_new, y_hat_old, 'b')\n",
    "lower = y_hat_old - y_sigma_old\n",
    "upper = y_hat_old + y_sigma_old\n",
    "ax[0].fill_between(x_new.flatten(), lower, upper, alpha=0.3)\n",
    "# plot original data\n",
    "ax[0].plot(np.arange(len(value)), value, 'r')\n",
    "ax[0].set_title(\n",
    "    \"Initial: %s\\n\"\n",
    "    % (kernel)\n",
    ")\n",
    "ax[0].axvline(x=input_data_length)\n",
    "\n",
    "# after optimize\n",
    "y_hat_new = np.squeeze(y_hat_new)\n",
    "ax[1].plot(x_new, y_hat_new, 'b')\n",
    "lower = y_hat_new - y_sigma_new\n",
    "upper = y_hat_new + y_sigma_new\n",
    "ax[1].fill_between(x_new.flatten(), lower, upper, alpha=0.3)\n",
    "# plot original data\n",
    "ax[1].plot(np.arange(len(value)), value, 'r')\n",
    "# plot original data\n",
    "ax[1].plot(np.arange(len(value)), value, 'r')\n",
    "ax[1].set_title(\n",
    "    \"Optimum: %s\\nLog-Marginal-Likelihood: %s\"\n",
    "    % (gpr.kernel_, gpr.log_marginal_likelihood(gpr.kernel_.theta))\n",
    ")\n",
    "ax[1].axvline(x=input_data_length)\n",
    "# ax[1].plot(np.arange(len(data.Value)), data.Value, 'g')\n",
    "plt.show()"
   ]
  }
 ],
 "metadata": {
  "interpreter": {
   "hash": "e5eb6902d1900d2decb3bdf7ac16a0c61011659b39aa72c90b1b2afe1472d5be"
  },
  "kernelspec": {
   "display_name": "Python 3.9.6 64-bit ('rl': conda)",
   "language": "python",
   "name": "python3"
  },
  "language_info": {
   "codemirror_mode": {
    "name": "ipython",
    "version": 3
   },
   "file_extension": ".py",
   "mimetype": "text/x-python",
   "name": "python",
   "nbconvert_exporter": "python",
   "pygments_lexer": "ipython3",
   "version": "3.9.6"
  },
  "orig_nbformat": 4
 },
 "nbformat": 4,
 "nbformat_minor": 2
}
